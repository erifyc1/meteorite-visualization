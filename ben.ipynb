{
 "cells": [
  {
   "cell_type": "code",
   "execution_count": null,
   "metadata": {},
   "outputs": [],
   "source": [
    "import numpy as np\n",
    "import matplotlib.pyplot as plt\n",
    "from PIL import Image\n",
    "import pandas as pd\n",
    "import plotly.express as px\n",
    "import plotly.graph_objects as go"
   ]
  },
  {
   "cell_type": "code",
   "execution_count": null,
   "metadata": {},
   "outputs": [],
   "source": [
    "meteorites = pd.read_csv(\"./data/meteorite-landings.csv\", delimiter=\",\")\n",
    "filtered_coords = (meteorites[\"Longitude\"] >= -180) & (meteorites[\"Longitude\"] <= 180) & ((meteorites[\"Longitude\"] != 0) | (meteorites[\"Latitude\"] != 0))\n",
    "filtered_years = (meteorites[\"Year\"] >= 860) & (meteorites[\"Year\"] <= 2016)\n",
    "filtered_mass = (meteorites[\"Mass\"] >= 100)\n",
    "filtered_meteorites = meteorites[filtered_coords & filtered_years & filtered_mass]\n",
    "filtered_meteorites.drop(\"GeoLocation\", axis=1, inplace=True)\n",
    "# filtered_meteorites[\"Mass\"] = filtered_meteorites[\"Mass\"] / 1000\n",
    "filtered_meteorites.to_csv(\"./data/cleansed-data.csv\")\n",
    "filtered_meteorites"
   ]
  },
  {
   "cell_type": "code",
   "execution_count": null,
   "metadata": {},
   "outputs": [],
   "source": [
    "cleansed_meteorites = pd.read_csv(\"./data/cleansed-data.csv\", delimiter=\",\")\n",
    "img = Image.open(\"images/map.jpg\")\n",
    "img.thumbnail((360, 200), Image.ANTIALIAS)\n",
    "ax = plt.subplot()\n",
    "ax.scatter(cleansed_meteorites[\"Longitude\"], cleansed_meteorites[\"Latitude\"], s=4)\n",
    "# plt.figure(figsize=(20,15))\n",
    "ax.imshow(img)\n",
    "plt.show()\n",
    "# plt.savefig(\"./images/testplot.png\", format=\"png\")"
   ]
  },
  {
   "cell_type": "code",
   "execution_count": null,
   "metadata": {},
   "outputs": [],
   "source": [
    "# Meteorite landings across the world\n",
    "\n",
    "fig = px.scatter_geo(filtered_meteorites,lat='Latitude',lon='Longitude',hover_name=\"Name\",color=\"Mass\",projection=\"natural earth\")\n",
    "fig.update_layout(title = 'Meteorite Landings Across the World', title_x=.5)\n",
    "fig.show()"
   ]
  },
  {
   "cell_type": "code",
   "execution_count": null,
   "metadata": {},
   "outputs": [],
   "source": [
    "# Figure of meteorite landings in the US\n",
    "\n",
    "fig = go.Figure(data=go.Scattergeo(\n",
    "        locationmode = 'USA-states',\n",
    "        lon = filtered_meteorites['Longitude'],\n",
    "        lat = filtered_meteorites['Latitude'],\n",
    "        text = \"Mass \" + filtered_meteorites['Mass'].astype(str),\n",
    "        mode = 'markers',\n",
    "        marker = dict(\n",
    "            line = dict(\n",
    "                width=1,\n",
    "                color='rgba(102, 102, 102)'\n",
    "            ),\n",
    "            cmin = 0,\n",
    "            color = filtered_meteorites['Mass'],\n",
    "            cmax = filtered_meteorites['Mass'].max(),\n",
    "            colorbar_title=\"Mass of Meteorites\"\n",
    "        )))\n",
    "fig.update_layout(\n",
    "        title = 'Meteorites in the US',\n",
    "        geo = dict(\n",
    "            scope='usa',\n",
    "            projection_type='albers usa',\n",
    "            showland = True,\n",
    "            countrywidth = 0.5,\n",
    "            subunitwidth = 0.5\n",
    "        ),\n",
    "    )\n",
    "fig.show()"
   ]
  },
  {
   "cell_type": "code",
   "execution_count": null,
   "metadata": {},
   "outputs": [],
   "source": [
    "# Calculates the the average meteorite mass per year\n",
    "\n",
    "def GetAverageMeteoriteMass(year, number):\n",
    "    sum = 0\n",
    "    for i in range(len(filtered_meteorites)):\n",
    "        if filtered_meteorites.iloc[i].Year == year:\n",
    "            sum += filtered_meteorites.iloc[i].Mass\n",
    "    return sum / number\n",
    "\n",
    "filter_old = filtered_meteorites['Year'] > 1766\n",
    "filtered_meteorites_per_year = filtered_meteorites[filter_old]\n",
    "filtered_meteorites_per_year = filtered_meteorites_per_year['Year'].value_counts()\n",
    "average_meteorite_mass_per_year = []\n",
    "for i in range(len(filtered_meteorites_per_year.index)):\n",
    "    year = filtered_meteorites_per_year.index[i]\n",
    "    number = filtered_meteorites_per_year.values[i]\n",
    "    print(GetAverageMeteoriteMass(year, number))\n",
    "    average_meteorite_mass_per_year.append(GetAverageMeteoriteMass(year, number))\n",
    "print(average_meteorite_mass_per_year)"
   ]
  },
  {
   "cell_type": "code",
   "execution_count": null,
   "metadata": {},
   "outputs": [],
   "source": [
    "# Figure of the # of meteorites per year and their average mass\n",
    "\n",
    "fig = px.scatter(filtered_meteorites_per_year,title=\"Number of Meteorites Per Year\",\n",
    "color=average_meteorite_mass_per_year,\n",
    "labels={\n",
    "    \"index\": \"Year\",\n",
    "    \"value\": \"Number of Meteorites\",\n",
    "    \"color\": \"Average Mass\"\n",
    "}\n",
    ")\n",
    "fig.update_layout(showlegend=False)\n",
    "fig.show()  "
   ]
  }
 ],
 "metadata": {
  "language_info": {
   "name": "python"
  },
  "orig_nbformat": 4
 },
 "nbformat": 4,
 "nbformat_minor": 2
}
