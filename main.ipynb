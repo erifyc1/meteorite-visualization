{
 "cells": [
  {
   "cell_type": "markdown",
   "metadata": {},
   "source": [
    "Data: https://www.kaggle.com/nasa/meteorite-landings"
   ]
  },
  {
   "cell_type": "code",
   "execution_count": null,
   "metadata": {},
   "outputs": [],
   "source": [
    "import numpy as np\n",
    "import matplotlib.pyplot as plt\n",
    "from PIL import Image\n",
    "import pandas as pd\n",
    "import plotly.express as px"
   ]
  },
  {
   "cell_type": "markdown",
   "metadata": {},
   "source": [
    "Code to filter the meteorite data. Only needs to be run once."
   ]
  },
  {
   "cell_type": "code",
   "execution_count": null,
   "metadata": {},
   "outputs": [],
   "source": [
    "meteorites = pd.read_csv(\"./data/meteorite-landings.csv\", delimiter=\",\")\n",
    "filtered_coords = (meteorites[\"Longitude\"] >= -180) & (meteorites[\"Longitude\"] <= 180) & ((meteorites[\"Longitude\"] != 0) | (meteorites[\"Latitude\"] != 0))\n",
    "filtered_years = (meteorites[\"Year\"] >= 860) & (meteorites[\"Year\"] <= 2016)\n",
    "filtered_mass = (meteorites[\"Mass\"] >= 100)\n",
    "filtered_meteorites = meteorites[filtered_coords & filtered_years & filtered_mass]\n",
    "filtered_meteorites.drop(\"GeoLocation\", axis=1, inplace=True)\n",
    "# filtered_meteorites[\"Mass\"] = filtered_meteorites[\"Mass\"] / 1000\n",
    "filtered_meteorites.to_csv(\"./data/cleansed-data.csv\")\n",
    "filtered_meteorites"
   ]
  },
  {
   "cell_type": "markdown",
   "metadata": {},
   "source": [
    "Code to plot the data"
   ]
  },
  {
   "cell_type": "code",
   "execution_count": null,
   "metadata": {},
   "outputs": [],
   "source": [
    "cleansed_meteorites = pd.read_csv(\"./data/cleansed-data.csv\", delimiter=\",\")\n",
    "img = Image.open(\"images/map.jpg\")\n",
    "img.thumbnail((360, 200), Image.ANTIALIAS)\n",
    "ax = plt.subplot()\n",
    "ax.scatter(cleansed_meteorites[\"Longitude\"], cleansed_meteorites[\"Latitude\"], s=4)\n",
    "# plt.figure(figsize=(20,15))\n",
    "ax.imshow(img)\n",
    "plt.show()\n",
    "# plt.savefig(\"./images/testplot.png\", format=\"png\")"
   ]
  },
  {
   "cell_type": "code",
   "execution_count": null,
   "metadata": {},
   "outputs": [],
   "source": [
    "fig = px.scatter_geo(filtered_meteorites,lat='Latitude',lon='Longitude',hover_name=\"Name\",color=\"Mass\",projection=\"natural earth\")\n",
    "fig.update_layout(title = 'Meteorite Landings Across the World', title_x=.5)\n",
    "fig.show()"
   ]
  },
  {
   "cell_type": "code",
   "execution_count": null,
   "metadata": {},
   "outputs": [],
   "source": []
  }
 ],
 "metadata": {
  "interpreter": {
   "hash": "f33c5ce0990fb1e5a0b3bd675fbf308b0a2d3defed801443b893848750bdd8ff"
  },
  "kernelspec": {
   "display_name": "Python 3.9.7 ('base')",
   "language": "python",
   "name": "python3"
  },
  "language_info": {
   "codemirror_mode": {
    "name": "ipython",
    "version": 3
   },
   "file_extension": ".py",
   "mimetype": "text/x-python",
   "name": "python",
   "nbconvert_exporter": "python",
   "pygments_lexer": "ipython3",
   "version": "3.10.2"
  },
  "orig_nbformat": 4
 },
 "nbformat": 4,
 "nbformat_minor": 2
}
